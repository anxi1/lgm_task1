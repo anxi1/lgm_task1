{
 "cells": [
  {
   "cell_type": "markdown",
   "id": "315dca6a",
   "metadata": {},
   "source": [
    "\n",
    "# TASK 1- Letsgrowmore\n",
    "\n",
    "## Image to Pencil Sketch with Python\n",
    "\n",
    "## Snehal Gupta"
   ]
  },
  {
   "cell_type": "code",
   "execution_count": 2,
   "id": "0e5bc57a",
   "metadata": {},
   "outputs": [],
   "source": [
    "import cv2\n",
    "\n",
    "# Load the image in RGB format\n",
    "image_path = \"C:\\\\Users\\\\sneha\\\\Documents\\\\letsgrowmore\\\\20211104_211101.jpg\"\n",
    "original_image = cv2.imread(image_path, cv2.IMREAD_COLOR)\n",
    "\n",
    "# Convert the image to grayscale\n",
    "grayscale_image = cv2.cvtColor(original_image, cv2.COLOR_BGR2GRAY)\n"
   ]
  },
  {
   "cell_type": "code",
   "execution_count": 3,
   "id": "637a81d2",
   "metadata": {},
   "outputs": [],
   "source": [
    "inverted_image = 255 - grayscale_image\n"
   ]
  },
  {
   "cell_type": "code",
   "execution_count": 4,
   "id": "7f780019",
   "metadata": {},
   "outputs": [],
   "source": [
    "# Apply Gaussian blur to the inverted image\n",
    "blurred_image = cv2.GaussianBlur(inverted_image, (21, 21), sigmaX=0, sigmaY=0)\n"
   ]
  },
  {
   "cell_type": "code",
   "execution_count": 5,
   "id": "f57e02ed",
   "metadata": {},
   "outputs": [],
   "source": [
    "pencil_sketch = cv2.divide(grayscale_image, blurred_image, scale=256.0)\n"
   ]
  },
  {
   "cell_type": "code",
   "execution_count": 6,
   "id": "782f6d9f",
   "metadata": {},
   "outputs": [
    {
     "data": {
      "text/plain": [
       "True"
      ]
     },
     "execution_count": 6,
     "metadata": {},
     "output_type": "execute_result"
    }
   ],
   "source": [
    "# Display the pencil sketch\n",
    "cv2.imshow('Pencil Sketch', pencil_sketch)\n",
    "cv2.waitKey(0)\n",
    "cv2.destroyAllWindows()\n",
    "\n",
    "# Save the pencil sketch to a file\n",
    "output_path = 'C:\\\\Users\\\\sneha\\\\Documents\\\\letsgrowmore\\\\output.jpg'\n",
    "cv2.imwrite(output_path, pencil_sketch)\n"
   ]
  },
  {
   "cell_type": "code",
   "execution_count": 7,
   "id": "c5984af5",
   "metadata": {},
   "outputs": [],
   "source": []
  },
  {
   "cell_type": "code",
   "execution_count": null,
   "id": "f79bb4b5",
   "metadata": {},
   "outputs": [],
   "source": []
  }
 ],
 "metadata": {
  "kernelspec": {
   "display_name": "Python 3 (ipykernel)",
   "language": "python",
   "name": "python3"
  },
  "language_info": {
   "codemirror_mode": {
    "name": "ipython",
    "version": 3
   },
   "file_extension": ".py",
   "mimetype": "text/x-python",
   "name": "python",
   "nbconvert_exporter": "python",
   "pygments_lexer": "ipython3",
   "version": "3.10.4"
  }
 },
 "nbformat": 4,
 "nbformat_minor": 5
}
